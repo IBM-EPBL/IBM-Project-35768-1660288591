{
 "cells": [
  {
   "cell_type": "markdown",
   "id": "9e1c84a2",
   "metadata": {},
   "source": [
    "# TRAIN AND TEST THE DATA\n"
   ]
  },
  {
   "cell_type": "code",
   "execution_count": 6,
   "id": "eabc26d6",
   "metadata": {},
   "outputs": [],
   "source": [
    "from keras.preprocessing.image import ImageDataGenerator\n",
    "train_datagen=ImageDataGenerator(rescale = 1./255, shear_range=0.2, zoom_range=0.2,horizontal_flip=True)\n",
    "test_datagen = ImageDataGenerator(rescale=1./255)"
   ]
  },
  {
   "cell_type": "code",
   "execution_count": 8,
   "id": "c5ae3a04",
   "metadata": {},
   "outputs": [
    {
     "name": "stdout",
     "output_type": "stream",
     "text": [
      "Found 15750 images belonging to 9 classes.\n"
     ]
    }
   ],
   "source": [
    "x_train = train_datagen.flow_from_directory(r\"C:\\Users\\prem\\Downloads\\conversation engine for deaf and dumb\\Dataset\\training_set\", target_size=(64,64),batch_size=300,\n",
    "                                            class_mode='categorical', color_mode =\"grayscale\")"
   ]
  },
  {
   "cell_type": "code",
   "execution_count": 10,
   "id": "2c32ba2e",
   "metadata": {},
   "outputs": [
    {
     "name": "stdout",
     "output_type": "stream",
     "text": [
      "Found 2250 images belonging to 9 classes.\n"
     ]
    }
   ],
   "source": [
    "x_test = test_datagen.flow_from_directory(r\"C:\\Users\\prem\\Downloads\\conversation engine for deaf and dumb\\Dataset\\test_set\", target_size=(64,64),batch_size=300,\n",
    "                                         class_mode='categorical', color_mode =\"grayscale\")\n"
   ]
  },
  {
   "cell_type": "markdown",
   "id": "aeca73f8",
   "metadata": {},
   "source": [
    "# MODEL BUILDING"
   ]
  },
  {
   "cell_type": "code",
   "execution_count": 11,
   "id": "2c55d5ab",
   "metadata": {},
   "outputs": [],
   "source": [
    "from keras.models import Sequential\n",
    "from keras.layers import Dense\n",
    "from keras.layers import Convolution2D\n",
    "from tensorflow.keras.layers import Conv2D, MaxPooling2D\n",
    "from keras.layers import Dropout\n",
    "from keras.layers import Flatten"
   ]
  },
  {
   "cell_type": "code",
   "execution_count": 12,
   "id": "faf14fcd",
   "metadata": {},
   "outputs": [],
   "source": [
    "model=Sequential()"
   ]
  },
  {
   "cell_type": "code",
   "execution_count": 14,
   "id": "45b56f54",
   "metadata": {},
   "outputs": [],
   "source": [
    "model.add(Convolution2D(32,(3,3), input_shape=(64,64,1), activation = 'relu'))"
   ]
  },
  {
   "cell_type": "code",
   "execution_count": 15,
   "id": "9663c3b7",
   "metadata": {},
   "outputs": [],
   "source": [
    "model.add(MaxPooling2D(pool_size=(2,2)))"
   ]
  },
  {
   "cell_type": "code",
   "execution_count": 16,
   "id": "60c1a75a",
   "metadata": {},
   "outputs": [],
   "source": [
    "model.add(Flatten())"
   ]
  },
  {
   "cell_type": "code",
   "execution_count": 17,
   "id": "1591eab2",
   "metadata": {},
   "outputs": [],
   "source": [
    "model.add(Dense( units=512, activation='relu'))"
   ]
  },
  {
   "cell_type": "code",
   "execution_count": 18,
   "id": "88f204ad",
   "metadata": {},
   "outputs": [],
   "source": [
    "model.add(Dense(units=9, activation='softmax'))"
   ]
  },
  {
   "cell_type": "markdown",
   "id": "19f7bd8f",
   "metadata": {},
   "source": [
    "# Compile The Model"
   ]
  },
  {
   "cell_type": "code",
   "execution_count": 19,
   "id": "99d3c515",
   "metadata": {},
   "outputs": [],
   "source": [
    "model.compile(loss='categorical_crossentropy', optimizer='adam', metrics=['accuracy'])"
   ]
  },
  {
   "cell_type": "markdown",
   "id": "e41ea679",
   "metadata": {},
   "source": [
    "# Fit And Save The Model"
   ]
  },
  {
   "cell_type": "code",
   "execution_count": 20,
   "id": "e380a858",
   "metadata": {},
   "outputs": [
    {
     "name": "stderr",
     "output_type": "stream",
     "text": [
      "C:\\Users\\prem\\AppData\\Local\\Temp\\ipykernel_18076\\3523359466.py:1: UserWarning: `Model.fit_generator` is deprecated and will be removed in a future version. Please use `Model.fit`, which supports generators.\n",
      "  model.fit_generator(x_train, steps_per_epoch=24, epochs=10, validation_data=x_test,validation_steps=40)\n"
     ]
    },
    {
     "name": "stdout",
     "output_type": "stream",
     "text": [
      "Epoch 1/10\n",
      "24/24 [==============================] - ETA: 0s - loss: 0.9948 - accuracy: 0.6967WARNING:tensorflow:Your input ran out of data; interrupting training. Make sure that your dataset or generator can generate at least `steps_per_epoch * epochs` batches (in this case, 40 batches). You may need to use the repeat() function when building your dataset.\n",
      "24/24 [==============================] - 73s 3s/step - loss: 0.9948 - accuracy: 0.6967 - val_loss: 0.3529 - val_accuracy: 0.9138\n",
      "Epoch 2/10\n",
      "24/24 [==============================] - 37s 2s/step - loss: 0.2181 - accuracy: 0.9388\n",
      "Epoch 3/10\n",
      "24/24 [==============================] - 26s 1s/step - loss: 0.1198 - accuracy: 0.9686\n",
      "Epoch 4/10\n",
      "24/24 [==============================] - 20s 832ms/step - loss: 0.0793 - accuracy: 0.9807\n",
      "Epoch 5/10\n",
      "24/24 [==============================] - 18s 733ms/step - loss: 0.0544 - accuracy: 0.9872\n",
      "Epoch 6/10\n",
      "24/24 [==============================] - 15s 636ms/step - loss: 0.0360 - accuracy: 0.9911\n",
      "Epoch 7/10\n",
      "24/24 [==============================] - 14s 593ms/step - loss: 0.0299 - accuracy: 0.9925\n",
      "Epoch 8/10\n",
      "24/24 [==============================] - 13s 550ms/step - loss: 0.0233 - accuracy: 0.9950\n",
      "Epoch 9/10\n",
      "24/24 [==============================] - 13s 551ms/step - loss: 0.0165 - accuracy: 0.9966\n",
      "Epoch 10/10\n",
      "24/24 [==============================] - 13s 535ms/step - loss: 0.0182 - accuracy: 0.9957\n"
     ]
    },
    {
     "data": {
      "text/plain": [
       "<keras.callbacks.History at 0x22c2d518e50>"
      ]
     },
     "execution_count": 20,
     "metadata": {},
     "output_type": "execute_result"
    }
   ],
   "source": [
    "model.fit_generator(x_train, steps_per_epoch=24, epochs=10, validation_data=x_test,validation_steps=40)"
   ]
  },
  {
   "cell_type": "code",
   "execution_count": 21,
   "id": "a25a5a2b",
   "metadata": {},
   "outputs": [],
   "source": [
    "model.save('model.h5')"
   ]
  }
 ],
 "metadata": {
  "kernelspec": {
   "display_name": "Python 3 (ipykernel)",
   "language": "python",
   "name": "python3"
  },
  "language_info": {
   "codemirror_mode": {
    "name": "ipython",
    "version": 3
   },
   "file_extension": ".py",
   "mimetype": "text/x-python",
   "name": "python",
   "nbconvert_exporter": "python",
   "pygments_lexer": "ipython3",
   "version": "3.9.13"
  }
 },
 "nbformat": 4,
 "nbformat_minor": 5
}
